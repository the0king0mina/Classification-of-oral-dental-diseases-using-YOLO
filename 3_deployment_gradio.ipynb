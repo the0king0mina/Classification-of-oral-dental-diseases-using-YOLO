import gradio as gr
from ultralytics import YOLO
from PIL import Image
import numpy as np

MODEL_PATH = "models/lastDenatalClassifcationbestfile.pt"
CLASSES = ["Calculus", "Caries", "Gingivitis", "Ulcers", "Tooth Discoloration", "Hypodontia"]

model = YOLO(MODEL_PATH)

def predict(image):
    image = Image.fromarray(image).convert("RGB")
    results = model.predict(image, verbose=False)
    pred_probs = results[0].probs.data.cpu().numpy()
    pred_class_idx = np.argmax(pred_probs)
    pred_class = CLASSES[pred_class_idx]
    confidence = pred_probs[pred_class_idx]
    return {CLASSES[i]: float(pred_probs[i]) for i in range(len(CLASSES))}

demo = gr.Interface(
    fn=predict,
    inputs=gr.Image(type="numpy"),
    outputs=gr.Label(num_top_classes=len(CLASSES)),
    title="Dental Disease Classification",
    description="Upload a dental image to classify diseases"
)

demo.launch()
